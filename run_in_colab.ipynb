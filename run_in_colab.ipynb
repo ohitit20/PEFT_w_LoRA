{
  "nbformat": 4,
  "nbformat_minor": 0,
  "metadata": {
    "colab": {
      "provenance": [],
      "gpuType": "T4"
    },
    "kernelspec": {
      "name": "python3",
      "display_name": "Python 3"
    },
    "language_info": {
      "name": "python"
    },
    "accelerator": "GPU"
  },
  "cells": [
    {
      "cell_type": "code",
      "execution_count": null,
      "metadata": {
        "id": "nw-TS7ySYbEd"
      },
      "outputs": [],
      "source": [
        "!pip install -r requirements.txt"
      ]
    },
    {
      "cell_type": "code",
      "source": [
        "!python train.py config/finetune_params_config.py --init_from=\"gpt2-medium\" --out_dir=\"gpt-default-lora\" --lora_rank=64"
      ],
      "metadata": {
        "id": "OndAfEQSbctC"
      },
      "execution_count": null,
      "outputs": []
    },
    {
      "cell_type": "code",
      "source": [
        "!python generate.py --init_from=\"gpt2-medium\""
      ],
      "metadata": {
        "id": "_aKpWCzHLHwg"
      },
      "execution_count": null,
      "outputs": []
    },
    {
      "cell_type": "code",
      "source": [
        "!python generate.py --init_from=\"resume\" --out_dir=\"gpt-default-lora\""
      ],
      "metadata": {
        "id": "73Ydq2uufIJw"
      },
      "execution_count": null,
      "outputs": []
    }
  ]
}